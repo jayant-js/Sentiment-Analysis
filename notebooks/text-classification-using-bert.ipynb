{
 "cells": [
  {
   "cell_type": "code",
   "execution_count": 3,
   "metadata": {
    "_cell_guid": "b1076dfc-b9ad-4769-8c92-a6c4dae69d19",
    "_uuid": "8f2839f25d086af736a60e9eeb907d3b93b6e0e5",
    "execution": {
     "iopub.execute_input": "2025-07-12T02:27:00.857326Z",
     "iopub.status.busy": "2025-07-12T02:27:00.857036Z",
     "iopub.status.idle": "2025-07-12T02:27:01.119082Z",
     "shell.execute_reply": "2025-07-12T02:27:01.118412Z",
     "shell.execute_reply.started": "2025-07-12T02:27:00.857305Z"
    },
    "trusted": true
   },
   "outputs": [
    {
     "name": "stdout",
     "output_type": "stream",
     "text": [
      "/kaggle/input/imdb-dataset/IMDB Dataset.csv\n"
     ]
    }
   ],
   "source": [
    "# This Python 3 environment comes with many helpful analytics libraries installed\n",
    "# It is defined by the kaggle/python Docker image: https://github.com/kaggle/docker-python\n",
    "# For example, here's several helpful packages to load\n",
    "\n",
    "import numpy as np # linear algebra\n",
    "import pandas as pd # data processing, CSV file I/O (e.g. pd.read_csv)\n",
    "\n",
    "# Input data files are available in the read-only \"../input/\" directory\n",
    "# For example, running this (by clicking run or pressing Shift+Enter) will list all files under the input directory\n",
    "\n",
    "import os\n",
    "for dirname, _, filenames in os.walk('/kaggle/input'):\n",
    "    for filename in filenames:\n",
    "        print(os.path.join(dirname, filename))\n",
    "\n",
    "# You can write up to 20GB to the current directory (/kaggle/working/) that gets preserved as output when you create a version using \"Save & Run All\" \n",
    "# You can also write temporary files to /kaggle/temp/, but they won't be saved outside of the current session"
   ]
  },
  {
   "cell_type": "code",
   "execution_count": 4,
   "metadata": {
    "execution": {
     "iopub.execute_input": "2025-07-12T02:27:03.946775Z",
     "iopub.status.busy": "2025-07-12T02:27:03.945943Z",
     "iopub.status.idle": "2025-07-12T02:27:28.732866Z",
     "shell.execute_reply": "2025-07-12T02:27:28.732225Z",
     "shell.execute_reply.started": "2025-07-12T02:27:03.946741Z"
    },
    "trusted": true
   },
   "outputs": [
    {
     "name": "stderr",
     "output_type": "stream",
     "text": [
      "2025-07-12 02:27:13.198938: E external/local_xla/xla/stream_executor/cuda/cuda_fft.cc:477] Unable to register cuFFT factory: Attempting to register factory for plugin cuFFT when one has already been registered\n",
      "WARNING: All log messages before absl::InitializeLog() is called are written to STDERR\n",
      "E0000 00:00:1752287233.431188      36 cuda_dnn.cc:8310] Unable to register cuDNN factory: Attempting to register factory for plugin cuDNN when one has already been registered\n",
      "E0000 00:00:1752287233.500966      36 cuda_blas.cc:1418] Unable to register cuBLAS factory: Attempting to register factory for plugin cuBLAS when one has already been registered\n"
     ]
    }
   ],
   "source": [
    "import pandas as pd\n",
    "import numpy as np\n",
    "import re\n",
    "from transformers import BertTokenizer, TFBertForSequenceClassification, create_optimizer\n",
    "import string\n",
    "from nltk.corpus import stopwords\n",
    "from sklearn.preprocessing import LabelEncoder\n",
    "from sklearn.model_selection import train_test_split\n",
    "import tensorflow as tf\n",
    "from tensorflow import keras\n",
    "import joblib"
   ]
  },
  {
   "cell_type": "code",
   "execution_count": 5,
   "metadata": {
    "execution": {
     "iopub.execute_input": "2025-07-12T02:27:28.734440Z",
     "iopub.status.busy": "2025-07-12T02:27:28.733932Z",
     "iopub.status.idle": "2025-07-12T02:27:30.050965Z",
     "shell.execute_reply": "2025-07-12T02:27:30.050419Z",
     "shell.execute_reply.started": "2025-07-12T02:27:28.734419Z"
    },
    "trusted": true
   },
   "outputs": [],
   "source": [
    "df = pd.read_csv('/kaggle/input/imdb-dataset/IMDB Dataset.csv')"
   ]
  },
  {
   "cell_type": "code",
   "execution_count": 6,
   "metadata": {
    "execution": {
     "iopub.execute_input": "2025-07-12T02:27:30.051932Z",
     "iopub.status.busy": "2025-07-12T02:27:30.051697Z",
     "iopub.status.idle": "2025-07-12T02:27:30.235616Z",
     "shell.execute_reply": "2025-07-12T02:27:30.235060Z",
     "shell.execute_reply.started": "2025-07-12T02:27:30.051915Z"
    },
    "trusted": true
   },
   "outputs": [],
   "source": [
    "df.drop_duplicates(inplace=True)"
   ]
  },
  {
   "cell_type": "code",
   "execution_count": 7,
   "metadata": {
    "execution": {
     "iopub.execute_input": "2025-07-12T02:27:30.237508Z",
     "iopub.status.busy": "2025-07-12T02:27:30.237291Z",
     "iopub.status.idle": "2025-07-12T02:27:30.242484Z",
     "shell.execute_reply": "2025-07-12T02:27:30.241856Z",
     "shell.execute_reply.started": "2025-07-12T02:27:30.237490Z"
    },
    "trusted": true
   },
   "outputs": [],
   "source": [
    "def preprocessing(text:str) -> str:\n",
    "    def lower_casing(text:str) -> str:\n",
    "        return text.lower()\n",
    "\n",
    "    def remove_html_tags(text:str) -> str:\n",
    "        return re.sub(r\"<[^>]+>\", \"\", text)\n",
    "\n",
    "    def remove_url(text:str) -> str:\n",
    "        return re.sub(r\"https?://\\S+|www\\.\\S+\", \"\", text)\n",
    "    \n",
    "    # def remove_punctuation(text:str) -> str:\n",
    "    #     return text.translate(str.maketrans(\"\", \"\", string.punctuation))\n",
    "    \n",
    "    # STOP_WORDS = set(stopwords.words('english'))\n",
    "    # def remove_stop_words(text:str) -> str:\n",
    "    #     return \" \".join(word for word in text.split() if word not in STOP_WORDS)\n",
    "    \n",
    "    text = lower_casing(text)\n",
    "    text = remove_html_tags(text)\n",
    "    text = remove_url(text)\n",
    "    # text = remove_punctuation(text)\n",
    "    # text = remove_stop_words(text)\n",
    "    return text"
   ]
  },
  {
   "cell_type": "code",
   "execution_count": 8,
   "metadata": {
    "execution": {
     "iopub.execute_input": "2025-07-12T02:27:30.243569Z",
     "iopub.status.busy": "2025-07-12T02:27:30.243218Z",
     "iopub.status.idle": "2025-07-12T02:27:31.258310Z",
     "shell.execute_reply": "2025-07-12T02:27:31.257722Z",
     "shell.execute_reply.started": "2025-07-12T02:27:30.243540Z"
    },
    "trusted": true
   },
   "outputs": [],
   "source": [
    "df['review'] = df['review'].apply(preprocessing)"
   ]
  },
  {
   "cell_type": "code",
   "execution_count": 9,
   "metadata": {
    "execution": {
     "iopub.execute_input": "2025-07-12T02:27:31.259256Z",
     "iopub.status.busy": "2025-07-12T02:27:31.259020Z",
     "iopub.status.idle": "2025-07-12T02:27:31.271012Z",
     "shell.execute_reply": "2025-07-12T02:27:31.270465Z",
     "shell.execute_reply.started": "2025-07-12T02:27:31.259238Z"
    },
    "trusted": true
   },
   "outputs": [],
   "source": [
    "le = LabelEncoder()\n",
    "y = le.fit_transform(df['sentiment'])"
   ]
  },
  {
   "cell_type": "code",
   "execution_count": 10,
   "metadata": {
    "execution": {
     "iopub.execute_input": "2025-07-12T02:27:31.271855Z",
     "iopub.status.busy": "2025-07-12T02:27:31.271691Z",
     "iopub.status.idle": "2025-07-12T02:27:31.306781Z",
     "shell.execute_reply": "2025-07-12T02:27:31.306007Z",
     "shell.execute_reply.started": "2025-07-12T02:27:31.271841Z"
    },
    "trusted": true
   },
   "outputs": [],
   "source": [
    "X_train, X_test, y_train, y_test = train_test_split(df['review'].tolist(), y.tolist(), test_size=0.2, random_state = 12)"
   ]
  },
  {
   "cell_type": "code",
   "execution_count": 11,
   "metadata": {
    "execution": {
     "iopub.execute_input": "2025-07-12T02:27:31.307747Z",
     "iopub.status.busy": "2025-07-12T02:27:31.307553Z",
     "iopub.status.idle": "2025-07-12T02:27:32.984568Z",
     "shell.execute_reply": "2025-07-12T02:27:32.984007Z",
     "shell.execute_reply.started": "2025-07-12T02:27:31.307733Z"
    },
    "trusted": true
   },
   "outputs": [
    {
     "data": {
      "application/vnd.jupyter.widget-view+json": {
       "model_id": "7cc9d553cbc140a986dd3c1faaab69f5",
       "version_major": 2,
       "version_minor": 0
      },
      "text/plain": [
       "tokenizer_config.json:   0%|          | 0.00/48.0 [00:00<?, ?B/s]"
      ]
     },
     "metadata": {},
     "output_type": "display_data"
    },
    {
     "data": {
      "application/vnd.jupyter.widget-view+json": {
       "model_id": "9af0171c7a2e4a5fa60204589d136531",
       "version_major": 2,
       "version_minor": 0
      },
      "text/plain": [
       "vocab.txt:   0%|          | 0.00/232k [00:00<?, ?B/s]"
      ]
     },
     "metadata": {},
     "output_type": "display_data"
    },
    {
     "data": {
      "application/vnd.jupyter.widget-view+json": {
       "model_id": "c6e9d36c2c594bc7a624f16d3c0e1bd0",
       "version_major": 2,
       "version_minor": 0
      },
      "text/plain": [
       "tokenizer.json:   0%|          | 0.00/466k [00:00<?, ?B/s]"
      ]
     },
     "metadata": {},
     "output_type": "display_data"
    },
    {
     "data": {
      "application/vnd.jupyter.widget-view+json": {
       "model_id": "339a7b8760ab4c878df416874e80bd60",
       "version_major": 2,
       "version_minor": 0
      },
      "text/plain": [
       "config.json:   0%|          | 0.00/570 [00:00<?, ?B/s]"
      ]
     },
     "metadata": {},
     "output_type": "display_data"
    }
   ],
   "source": [
    "tokenizer = BertTokenizer.from_pretrained('bert-base-uncased')"
   ]
  },
  {
   "cell_type": "code",
   "execution_count": 12,
   "metadata": {
    "execution": {
     "iopub.execute_input": "2025-07-12T02:27:32.985515Z",
     "iopub.status.busy": "2025-07-12T02:27:32.985310Z",
     "iopub.status.idle": "2025-07-12T02:30:32.257027Z",
     "shell.execute_reply": "2025-07-12T02:30:32.256297Z",
     "shell.execute_reply.started": "2025-07-12T02:27:32.985497Z"
    },
    "trusted": true
   },
   "outputs": [
    {
     "name": "stderr",
     "output_type": "stream",
     "text": [
      "I0000 00:00:1752287394.251457      36 gpu_device.cc:2022] Created device /job:localhost/replica:0/task:0/device:GPU:0 with 15513 MB memory:  -> device: 0, name: Tesla P100-PCIE-16GB, pci bus id: 0000:00:04.0, compute capability: 6.0\n"
     ]
    }
   ],
   "source": [
    "train_encodings = tokenizer(X_train, truncation=True, padding=True, max_length = 256, return_tensors = 'tf')\n",
    "test_encodings = tokenizer(X_test, truncation=True, padding=True, max_length = 256, return_tensors = 'tf')"
   ]
  },
  {
   "cell_type": "code",
   "execution_count": 13,
   "metadata": {
    "execution": {
     "iopub.execute_input": "2025-07-12T02:30:32.263485Z",
     "iopub.status.busy": "2025-07-12T02:30:32.263207Z",
     "iopub.status.idle": "2025-07-12T02:30:32.292570Z",
     "shell.execute_reply": "2025-07-12T02:30:32.291873Z",
     "shell.execute_reply.started": "2025-07-12T02:30:32.263455Z"
    },
    "trusted": true
   },
   "outputs": [],
   "source": [
    "train = tf.data.Dataset.from_tensor_slices((\n",
    "    {\n",
    "        'input_ids':tf.constant(train_encodings['input_ids']),\n",
    "        'attention_mask':tf.constant(train_encodings['attention_mask'])\n",
    "    },\n",
    "    tf.constant(y_train)\n",
    ")).shuffle(1000).batch(32).prefetch(tf.data.AUTOTUNE)\n",
    "\n",
    "test = tf.data.Dataset.from_tensor_slices((\n",
    "    {\n",
    "        'input_ids':tf.constant(test_encodings['input_ids']),\n",
    "        'attention_mask':tf.constant(test_encodings['attention_mask'])\n",
    "    },\n",
    "    tf.constant(y_test)\n",
    ")).batch(32).prefetch(tf.data.AUTOTUNE)"
   ]
  },
  {
   "cell_type": "code",
   "execution_count": 14,
   "metadata": {
    "execution": {
     "iopub.execute_input": "2025-07-12T02:30:32.293568Z",
     "iopub.status.busy": "2025-07-12T02:30:32.293325Z",
     "iopub.status.idle": "2025-07-12T02:30:36.518702Z",
     "shell.execute_reply": "2025-07-12T02:30:36.517907Z",
     "shell.execute_reply.started": "2025-07-12T02:30:32.293545Z"
    },
    "trusted": true
   },
   "outputs": [
    {
     "data": {
      "application/vnd.jupyter.widget-view+json": {
       "model_id": "2fec7ab27e9f497997be76c69fdb2fa2",
       "version_major": 2,
       "version_minor": 0
      },
      "text/plain": [
       "model.safetensors:   0%|          | 0.00/440M [00:00<?, ?B/s]"
      ]
     },
     "metadata": {},
     "output_type": "display_data"
    },
    {
     "name": "stderr",
     "output_type": "stream",
     "text": [
      "All PyTorch model weights were used when initializing TFBertForSequenceClassification.\n",
      "\n",
      "Some weights or buffers of the TF 2.0 model TFBertForSequenceClassification were not initialized from the PyTorch model and are newly initialized: ['classifier.weight', 'classifier.bias']\n",
      "You should probably TRAIN this model on a down-stream task to be able to use it for predictions and inference.\n"
     ]
    }
   ],
   "source": [
    "model = TFBertForSequenceClassification.from_pretrained('bert-base-uncased', num_labels=2)"
   ]
  },
  {
   "cell_type": "code",
   "execution_count": 16,
   "metadata": {
    "execution": {
     "iopub.execute_input": "2025-07-12T02:31:14.647550Z",
     "iopub.status.busy": "2025-07-12T02:31:14.647265Z",
     "iopub.status.idle": "2025-07-12T02:31:14.652616Z",
     "shell.execute_reply": "2025-07-12T02:31:14.651897Z",
     "shell.execute_reply.started": "2025-07-12T02:31:14.647529Z"
    },
    "trusted": true
   },
   "outputs": [],
   "source": [
    "optimizer, lr_schedule = create_optimizer(\n",
    "    init_lr = 2e-5,\n",
    "    num_train_steps = len(train) * 5,\n",
    "    num_warmup_steps = int(0.1 * len(train) * 5),\n",
    "    weight_decay_rate = 0.01\n",
    ")"
   ]
  },
  {
   "cell_type": "code",
   "execution_count": 17,
   "metadata": {
    "execution": {
     "iopub.execute_input": "2025-07-12T02:31:15.947960Z",
     "iopub.status.busy": "2025-07-12T02:31:15.947657Z",
     "iopub.status.idle": "2025-07-12T02:31:15.966572Z",
     "shell.execute_reply": "2025-07-12T02:31:15.965635Z",
     "shell.execute_reply.started": "2025-07-12T02:31:15.947936Z"
    },
    "trusted": true
   },
   "outputs": [],
   "source": [
    "model.compile(optimizer=optimizer, loss='sparse_categorical_crossentropy', metrics=['accuracy'])"
   ]
  },
  {
   "cell_type": "code",
   "execution_count": 18,
   "metadata": {
    "execution": {
     "iopub.execute_input": "2025-07-12T02:31:17.730198Z",
     "iopub.status.busy": "2025-07-12T02:31:17.729884Z",
     "iopub.status.idle": "2025-07-12T04:19:57.450051Z",
     "shell.execute_reply": "2025-07-12T04:19:57.449454Z",
     "shell.execute_reply.started": "2025-07-12T02:31:17.730175Z"
    },
    "trusted": true
   },
   "outputs": [
    {
     "name": "stdout",
     "output_type": "stream",
     "text": [
      "Epoch 1/5\n",
      "1240/1240 [==============================] - 1334s 1s/step - loss: 0.7091 - accuracy: 0.6187 - val_loss: 0.6908 - val_accuracy: 0.6864\n",
      "Epoch 2/5\n",
      "1240/1240 [==============================] - 1297s 1s/step - loss: 0.6058 - accuracy: 0.6884 - val_loss: 0.5117 - val_accuracy: 0.7437\n",
      "Epoch 3/5\n",
      "1240/1240 [==============================] - 1296s 1s/step - loss: 0.5297 - accuracy: 0.7066 - val_loss: 0.6280 - val_accuracy: 0.5068\n",
      "Epoch 4/5\n",
      "1240/1240 [==============================] - 1297s 1s/step - loss: 0.4479 - accuracy: 0.7903 - val_loss: 0.4023 - val_accuracy: 0.9036\n",
      "Epoch 5/5\n",
      "1240/1240 [==============================] - 1296s 1s/step - loss: 0.3182 - accuracy: 0.9004 - val_loss: 0.3497 - val_accuracy: 0.9053\n"
     ]
    },
    {
     "data": {
      "text/plain": [
       "<tf_keras.src.callbacks.History at 0x79107e68f8d0>"
      ]
     },
     "execution_count": 18,
     "metadata": {},
     "output_type": "execute_result"
    }
   ],
   "source": [
    "model.fit(train, validation_data = (test), epochs = 5)"
   ]
  },
  {
   "cell_type": "code",
   "execution_count": 20,
   "metadata": {
    "execution": {
     "iopub.execute_input": "2025-07-12T04:19:59.861935Z",
     "iopub.status.busy": "2025-07-12T04:19:59.861614Z",
     "iopub.status.idle": "2025-07-12T04:19:59.884689Z",
     "shell.execute_reply": "2025-07-12T04:19:59.884167Z",
     "shell.execute_reply.started": "2025-07-12T04:19:59.861917Z"
    },
    "trusted": true
   },
   "outputs": [
    {
     "name": "stderr",
     "output_type": "stream",
     "text": [
      "Provided path (/kaggle/working/bert-sentiment-analysis) should be a directory, not a file\n"
     ]
    },
    {
     "data": {
      "text/plain": [
       "('/kaggle/working/bert-sentiment-tokenizer/tokenizer_config.json',\n",
       " '/kaggle/working/bert-sentiment-tokenizer/special_tokens_map.json',\n",
       " '/kaggle/working/bert-sentiment-tokenizer/vocab.txt',\n",
       " '/kaggle/working/bert-sentiment-tokenizer/added_tokens.json')"
      ]
     },
     "execution_count": 20,
     "metadata": {},
     "output_type": "execute_result"
    }
   ],
   "source": [
    "model.save_pretrained('/kaggle/working/bert-sentiment-analysis')\n",
    "tokenizer.save_pretrained('/kaggle/working/bert-sentiment-tokenizer')"
   ]
  },
  {
   "cell_type": "code",
   "execution_count": null,
   "metadata": {},
   "outputs": [],
   "source": []
  }
 ],
 "metadata": {
  "kaggle": {
   "accelerator": "gpu",
   "dataSources": [
    {
     "datasetId": 7845519,
     "sourceId": 12437668,
     "sourceType": "datasetVersion"
    }
   ],
   "dockerImageVersionId": 31089,
   "isGpuEnabled": true,
   "isInternetEnabled": true,
   "language": "python",
   "sourceType": "notebook"
  },
  "kernelspec": {
   "display_name": "Python 3",
   "language": "python",
   "name": "python3"
  },
  "language_info": {
   "codemirror_mode": {
    "name": "ipython",
    "version": 3
   },
   "file_extension": ".py",
   "mimetype": "text/x-python",
   "name": "python",
   "nbconvert_exporter": "python",
   "pygments_lexer": "ipython3",
   "version": "3.12.10"
  }
 },
 "nbformat": 4,
 "nbformat_minor": 4
}
